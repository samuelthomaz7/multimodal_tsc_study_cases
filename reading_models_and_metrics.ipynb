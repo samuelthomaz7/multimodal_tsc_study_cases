{
 "cells": [
  {
   "cell_type": "code",
   "execution_count": 2,
   "metadata": {},
   "outputs": [],
   "source": [
    "import torch \n",
    "import pandas as pd\n",
    "from tqdm import tqdm\n",
    "from input.reading_datasets import read_dataset_from_file\n",
    "from input.time_series_module import TimeSeriesDataset\n",
    "from preprocessing.get_dummies_labels import GetDummiesLabels\n",
    "from preprocessing.train_test_split_module import TrainTestSplit\n",
    "\n",
    "from models.fully_convolutional_network_1dGAP import FullyConvolutionalNetwork1DGAP\n",
    "from models.fully_convolutional_network_1d_intermediateGAP import FullyConvolutionalNetwork1DIntermediateGAP\n",
    "from models.fully_convolutional_network_1d_lateGAP import FullyConvolutionalNetwork1DLateGAP\n",
    "\n",
    "\n",
    "from torch.utils.data import DataLoader\n",
    "from sklearn.metrics import f1_score\n"
   ]
  },
  {
   "cell_type": "code",
   "execution_count": 3,
   "metadata": {},
   "outputs": [],
   "source": [
    "torch.cuda.empty_cache()"
   ]
  },
  {
   "cell_type": "code",
   "execution_count": 4,
   "metadata": {},
   "outputs": [],
   "source": [
    "def get_metrics(model, device = 'cuda'):    \n",
    "    \n",
    "    model.eval()\n",
    "    all_preds = []\n",
    "    all_targets = []\n",
    "    with torch.inference_mode():\n",
    "        valid_loss = 0.0\n",
    "        valid_correct = 0\n",
    "        valid_total = 0\n",
    "        for inputs, targets in model.test_dataload:\n",
    "            inputs, targets = inputs.to(model.device), targets.to(model.device)\n",
    "            outputs = model(inputs)\n",
    "            \n",
    "            loss = model.loss_fn(\n",
    "                outputs.type(torch.float32), \n",
    "                targets.type(torch.float32) \n",
    "            )\n",
    "\n",
    "            valid_loss += loss.item()\n",
    "\n",
    "            _, predicted = torch.max(outputs, 1)\n",
    "            _, target_indices = torch.max(targets, 1)\n",
    "\n",
    "            all_preds.extend(predicted.cpu().numpy())\n",
    "            all_targets.extend(target_indices.cpu().numpy())\n",
    "\n",
    "            valid_correct += (predicted == torch.max(targets, 1).indices).sum().item()\n",
    "            valid_total += targets.size(0)\n",
    "\n",
    "        valid_loss /= len(model.test_dataload)\n",
    "        valid_accuracy = valid_correct / valid_total\n",
    "        f1_macro = f1_score(all_targets, all_preds, average='macro')\n",
    "        f1_micro = f1_score(all_targets, all_preds, average='micro')\n",
    "\n",
    "    return {\n",
    "        'f1_macro': f1_macro,\n",
    "        'f1_micro': f1_micro,\n",
    "        'valid_accuracy': valid_accuracy\n",
    "    }"
   ]
  },
  {
   "cell_type": "code",
   "execution_count": null,
   "metadata": {},
   "outputs": [],
   "source": [
    "\n",
    "def get_metrics_from_model(used_model, seeds = list(range(1, 11))):\n",
    "    custom_groups = True\n",
    "    batch_size = 32\n",
    "    datasets = ['wesad']\n",
    "    device = 'cuda'\n",
    "    metrics = []\n",
    "    for dataset in tqdm(datasets):\n",
    "        for random_state in tqdm(seeds):\n",
    "            used_dataset = read_dataset_from_file(dataset_name = dataset)\n",
    "            X, y, metadata = used_dataset['X'], used_dataset['y'], used_dataset['metadata']\n",
    "\n",
    "            get_dummies_object = GetDummiesLabels(\n",
    "                X_raw= X,\n",
    "                y_raw= y,\n",
    "                metadata= metadata\n",
    "            )\n",
    "\n",
    "            X, y = get_dummies_object.transform()\n",
    "\n",
    "            train_test_object = TrainTestSplit(\n",
    "                X_raw= X,\n",
    "                y_raw= y,\n",
    "                metadata= metadata,\n",
    "                random_state = random_state\n",
    "                \n",
    "            )\n",
    "\n",
    "        \n",
    "            X_train, X_test, y_train, y_test = train_test_object.transform(custom_groups = custom_groups)\n",
    "            X_train, X_test, y_train, y_test = torch.from_numpy(X_train).to(device), torch.from_numpy(X_test).to(device), torch.from_numpy(y_train).to(device), torch.from_numpy(y_test).to(device)\n",
    "\n",
    "\n",
    "            train_dataset = TimeSeriesDataset(\n",
    "                data=X_train,\n",
    "                labels=y_train,\n",
    "                metadata=metadata\n",
    "            )\n",
    "\n",
    "            test_dataset = TimeSeriesDataset(\n",
    "                data=X_test,\n",
    "                labels=y_test,\n",
    "                metadata=metadata\n",
    "            )\n",
    "\n",
    "    \n",
    "            model = used_model(\n",
    "                train_dataset = train_dataset,\n",
    "                test_dataset = test_dataset,\n",
    "                metadata = metadata,\n",
    "                random_state = random_state,\n",
    "                dataset_name = dataset,\n",
    "                device = device\n",
    "            ).to(device)\n",
    "\n",
    "            \n",
    "\n",
    "            model_name = model.model_name\n",
    "            \n",
    "            model.eval()\n",
    "            load_model = torch.load(f = './model_checkpoints/' + model.model_folder + '/best_model.pth') \n",
    "            model.load_state_dict(load_model)\n",
    "\n",
    "            \n",
    "            metrics_seed = get_metrics(model=model)\n",
    "            metrics.append(metrics_seed)\n",
    "            print(random_state, metrics_seed)\n",
    "\n",
    "            del X_train, X_test, y_train, y_test\n",
    "            del model\n",
    "\n",
    "    df = pd.DataFrame(metrics, index = seeds)\n",
    "    df['model_name'] = model_name\n",
    "\n",
    "    return df\n",
    "\n"
   ]
  },
  {
   "cell_type": "code",
   "execution_count": 6,
   "metadata": {},
   "outputs": [
    {
     "name": "stderr",
     "output_type": "stream",
     "text": [
      "  0%|          | 0/1 [00:00<?, ?it/s]/tmp/ipykernel_3424418/1431452037.py:61: FutureWarning: You are using `torch.load` with `weights_only=False` (the current default value), which uses the default pickle module implicitly. It is possible to construct malicious pickle data which will execute arbitrary code during unpickling (See https://github.com/pytorch/pytorch/blob/main/SECURITY.md#untrusted-models for more details). In a future release, the default value for `weights_only` will be flipped to `True`. This limits the functions that could be executed during unpickling. Arbitrary objects will no longer be allowed to be loaded via this mode unless they are explicitly allowlisted by the user via `torch.serialization.add_safe_globals`. We recommend you start setting `weights_only=True` for any use case where you don't have full control of the loaded file. Please open an issue on GitHub for any issues related to this experimental feature.\n",
      "  load_model = torch.load(f = './model_checkpoints/' + model.model_folder + '/best_model.pth')\n",
      "/home/stbastos/experiments/health_tests/multimodal_tsc_study_cases/input/time_series_module.py:18: UserWarning: To copy construct from a tensor, it is recommended to use sourceTensor.clone().detach() or sourceTensor.clone().detach().requires_grad_(True), rather than torch.tensor(sourceTensor).\n",
      "  return torch.tensor(self.data[idx], dtype=torch.float32).to(device=self.device), torch.tensor(self.labels[idx], dtype=torch.long).to(device=self.device)\n"
     ]
    },
    {
     "name": "stdout",
     "output_type": "stream",
     "text": [
      "1 {'f1_macro': 0.9956447491571239, 'f1_micro': 0.9966759002770084, 'valid_accuracy': 0.9966759002770084}\n"
     ]
    },
    {
     "name": "stderr",
     "output_type": "stream",
     "text": [
      "/tmp/ipykernel_3424418/1431452037.py:61: FutureWarning: You are using `torch.load` with `weights_only=False` (the current default value), which uses the default pickle module implicitly. It is possible to construct malicious pickle data which will execute arbitrary code during unpickling (See https://github.com/pytorch/pytorch/blob/main/SECURITY.md#untrusted-models for more details). In a future release, the default value for `weights_only` will be flipped to `True`. This limits the functions that could be executed during unpickling. Arbitrary objects will no longer be allowed to be loaded via this mode unless they are explicitly allowlisted by the user via `torch.serialization.add_safe_globals`. We recommend you start setting `weights_only=True` for any use case where you don't have full control of the loaded file. Please open an issue on GitHub for any issues related to this experimental feature.\n",
      "  load_model = torch.load(f = './model_checkpoints/' + model.model_folder + '/best_model.pth')\n",
      "/home/stbastos/experiments/health_tests/multimodal_tsc_study_cases/input/time_series_module.py:18: UserWarning: To copy construct from a tensor, it is recommended to use sourceTensor.clone().detach() or sourceTensor.clone().detach().requires_grad_(True), rather than torch.tensor(sourceTensor).\n",
      "  return torch.tensor(self.data[idx], dtype=torch.float32).to(device=self.device), torch.tensor(self.labels[idx], dtype=torch.long).to(device=self.device)\n"
     ]
    },
    {
     "name": "stdout",
     "output_type": "stream",
     "text": [
      "2 {'f1_macro': 0.5229956512168681, 'f1_micro': 0.6166445329791943, 'valid_accuracy': 0.6166445329791943}\n"
     ]
    },
    {
     "name": "stderr",
     "output_type": "stream",
     "text": [
      "/tmp/ipykernel_3424418/1431452037.py:61: FutureWarning: You are using `torch.load` with `weights_only=False` (the current default value), which uses the default pickle module implicitly. It is possible to construct malicious pickle data which will execute arbitrary code during unpickling (See https://github.com/pytorch/pytorch/blob/main/SECURITY.md#untrusted-models for more details). In a future release, the default value for `weights_only` will be flipped to `True`. This limits the functions that could be executed during unpickling. Arbitrary objects will no longer be allowed to be loaded via this mode unless they are explicitly allowlisted by the user via `torch.serialization.add_safe_globals`. We recommend you start setting `weights_only=True` for any use case where you don't have full control of the loaded file. Please open an issue on GitHub for any issues related to this experimental feature.\n",
      "  load_model = torch.load(f = './model_checkpoints/' + model.model_folder + '/best_model.pth')\n",
      "/home/stbastos/experiments/health_tests/multimodal_tsc_study_cases/input/time_series_module.py:18: UserWarning: To copy construct from a tensor, it is recommended to use sourceTensor.clone().detach() or sourceTensor.clone().detach().requires_grad_(True), rather than torch.tensor(sourceTensor).\n",
      "  return torch.tensor(self.data[idx], dtype=torch.float32).to(device=self.device), torch.tensor(self.labels[idx], dtype=torch.long).to(device=self.device)\n"
     ]
    },
    {
     "name": "stdout",
     "output_type": "stream",
     "text": [
      "3 {'f1_macro': 0.5894117178858617, 'f1_micro': 0.7024084460574068, 'valid_accuracy': 0.7024084460574068}\n"
     ]
    },
    {
     "name": "stderr",
     "output_type": "stream",
     "text": [
      "/tmp/ipykernel_3424418/1431452037.py:61: FutureWarning: You are using `torch.load` with `weights_only=False` (the current default value), which uses the default pickle module implicitly. It is possible to construct malicious pickle data which will execute arbitrary code during unpickling (See https://github.com/pytorch/pytorch/blob/main/SECURITY.md#untrusted-models for more details). In a future release, the default value for `weights_only` will be flipped to `True`. This limits the functions that could be executed during unpickling. Arbitrary objects will no longer be allowed to be loaded via this mode unless they are explicitly allowlisted by the user via `torch.serialization.add_safe_globals`. We recommend you start setting `weights_only=True` for any use case where you don't have full control of the loaded file. Please open an issue on GitHub for any issues related to this experimental feature.\n",
      "  load_model = torch.load(f = './model_checkpoints/' + model.model_folder + '/best_model.pth')\n",
      "/home/stbastos/experiments/health_tests/multimodal_tsc_study_cases/input/time_series_module.py:18: UserWarning: To copy construct from a tensor, it is recommended to use sourceTensor.clone().detach() or sourceTensor.clone().detach().requires_grad_(True), rather than torch.tensor(sourceTensor).\n",
      "  return torch.tensor(self.data[idx], dtype=torch.float32).to(device=self.device), torch.tensor(self.labels[idx], dtype=torch.long).to(device=self.device)\n"
     ]
    },
    {
     "name": "stdout",
     "output_type": "stream",
     "text": [
      "4 {'f1_macro': 0.6029085859418989, 'f1_micro': 0.6301986173598156, 'valid_accuracy': 0.6301986173598156}\n"
     ]
    },
    {
     "name": "stderr",
     "output_type": "stream",
     "text": [
      "/tmp/ipykernel_3424418/1431452037.py:61: FutureWarning: You are using `torch.load` with `weights_only=False` (the current default value), which uses the default pickle module implicitly. It is possible to construct malicious pickle data which will execute arbitrary code during unpickling (See https://github.com/pytorch/pytorch/blob/main/SECURITY.md#untrusted-models for more details). In a future release, the default value for `weights_only` will be flipped to `True`. This limits the functions that could be executed during unpickling. Arbitrary objects will no longer be allowed to be loaded via this mode unless they are explicitly allowlisted by the user via `torch.serialization.add_safe_globals`. We recommend you start setting `weights_only=True` for any use case where you don't have full control of the loaded file. Please open an issue on GitHub for any issues related to this experimental feature.\n",
      "  load_model = torch.load(f = './model_checkpoints/' + model.model_folder + '/best_model.pth')\n",
      "/home/stbastos/experiments/health_tests/multimodal_tsc_study_cases/input/time_series_module.py:18: UserWarning: To copy construct from a tensor, it is recommended to use sourceTensor.clone().detach() or sourceTensor.clone().detach().requires_grad_(True), rather than torch.tensor(sourceTensor).\n",
      "  return torch.tensor(self.data[idx], dtype=torch.float32).to(device=self.device), torch.tensor(self.labels[idx], dtype=torch.long).to(device=self.device)\n"
     ]
    },
    {
     "name": "stdout",
     "output_type": "stream",
     "text": [
      "5 {'f1_macro': 0.5599112604147107, 'f1_micro': 0.5760640071119013, 'valid_accuracy': 0.5760640071119013}\n"
     ]
    },
    {
     "name": "stderr",
     "output_type": "stream",
     "text": [
      "/tmp/ipykernel_3424418/1431452037.py:61: FutureWarning: You are using `torch.load` with `weights_only=False` (the current default value), which uses the default pickle module implicitly. It is possible to construct malicious pickle data which will execute arbitrary code during unpickling (See https://github.com/pytorch/pytorch/blob/main/SECURITY.md#untrusted-models for more details). In a future release, the default value for `weights_only` will be flipped to `True`. This limits the functions that could be executed during unpickling. Arbitrary objects will no longer be allowed to be loaded via this mode unless they are explicitly allowlisted by the user via `torch.serialization.add_safe_globals`. We recommend you start setting `weights_only=True` for any use case where you don't have full control of the loaded file. Please open an issue on GitHub for any issues related to this experimental feature.\n",
      "  load_model = torch.load(f = './model_checkpoints/' + model.model_folder + '/best_model.pth')\n",
      "/home/stbastos/experiments/health_tests/multimodal_tsc_study_cases/input/time_series_module.py:18: UserWarning: To copy construct from a tensor, it is recommended to use sourceTensor.clone().detach() or sourceTensor.clone().detach().requires_grad_(True), rather than torch.tensor(sourceTensor).\n",
      "  return torch.tensor(self.data[idx], dtype=torch.float32).to(device=self.device), torch.tensor(self.labels[idx], dtype=torch.long).to(device=self.device)\n"
     ]
    },
    {
     "name": "stdout",
     "output_type": "stream",
     "text": [
      "6 {'f1_macro': 0.6042864515211213, 'f1_micro': 0.7438254513235131, 'valid_accuracy': 0.7438254513235131}\n"
     ]
    },
    {
     "name": "stderr",
     "output_type": "stream",
     "text": [
      "/tmp/ipykernel_3424418/1431452037.py:61: FutureWarning: You are using `torch.load` with `weights_only=False` (the current default value), which uses the default pickle module implicitly. It is possible to construct malicious pickle data which will execute arbitrary code during unpickling (See https://github.com/pytorch/pytorch/blob/main/SECURITY.md#untrusted-models for more details). In a future release, the default value for `weights_only` will be flipped to `True`. This limits the functions that could be executed during unpickling. Arbitrary objects will no longer be allowed to be loaded via this mode unless they are explicitly allowlisted by the user via `torch.serialization.add_safe_globals`. We recommend you start setting `weights_only=True` for any use case where you don't have full control of the loaded file. Please open an issue on GitHub for any issues related to this experimental feature.\n",
      "  load_model = torch.load(f = './model_checkpoints/' + model.model_folder + '/best_model.pth')\n",
      "/home/stbastos/experiments/health_tests/multimodal_tsc_study_cases/input/time_series_module.py:18: UserWarning: To copy construct from a tensor, it is recommended to use sourceTensor.clone().detach() or sourceTensor.clone().detach().requires_grad_(True), rather than torch.tensor(sourceTensor).\n",
      "  return torch.tensor(self.data[idx], dtype=torch.float32).to(device=self.device), torch.tensor(self.labels[idx], dtype=torch.long).to(device=self.device)\n"
     ]
    },
    {
     "name": "stdout",
     "output_type": "stream",
     "text": [
      "7 {'f1_macro': 0.6218060919217957, 'f1_micro': 0.639155894376312, 'valid_accuracy': 0.639155894376312}\n"
     ]
    },
    {
     "name": "stderr",
     "output_type": "stream",
     "text": [
      "/tmp/ipykernel_3424418/1431452037.py:61: FutureWarning: You are using `torch.load` with `weights_only=False` (the current default value), which uses the default pickle module implicitly. It is possible to construct malicious pickle data which will execute arbitrary code during unpickling (See https://github.com/pytorch/pytorch/blob/main/SECURITY.md#untrusted-models for more details). In a future release, the default value for `weights_only` will be flipped to `True`. This limits the functions that could be executed during unpickling. Arbitrary objects will no longer be allowed to be loaded via this mode unless they are explicitly allowlisted by the user via `torch.serialization.add_safe_globals`. We recommend you start setting `weights_only=True` for any use case where you don't have full control of the loaded file. Please open an issue on GitHub for any issues related to this experimental feature.\n",
      "  load_model = torch.load(f = './model_checkpoints/' + model.model_folder + '/best_model.pth')\n",
      "/home/stbastos/experiments/health_tests/multimodal_tsc_study_cases/input/time_series_module.py:18: UserWarning: To copy construct from a tensor, it is recommended to use sourceTensor.clone().detach() or sourceTensor.clone().detach().requires_grad_(True), rather than torch.tensor(sourceTensor).\n",
      "  return torch.tensor(self.data[idx], dtype=torch.float32).to(device=self.device), torch.tensor(self.labels[idx], dtype=torch.long).to(device=self.device)\n"
     ]
    },
    {
     "name": "stdout",
     "output_type": "stream",
     "text": [
      "8 {'f1_macro': 0.5587383119511024, 'f1_micro': 0.6044602241207145, 'valid_accuracy': 0.6044602241207145}\n"
     ]
    },
    {
     "name": "stderr",
     "output_type": "stream",
     "text": [
      "/tmp/ipykernel_3424418/1431452037.py:61: FutureWarning: You are using `torch.load` with `weights_only=False` (the current default value), which uses the default pickle module implicitly. It is possible to construct malicious pickle data which will execute arbitrary code during unpickling (See https://github.com/pytorch/pytorch/blob/main/SECURITY.md#untrusted-models for more details). In a future release, the default value for `weights_only` will be flipped to `True`. This limits the functions that could be executed during unpickling. Arbitrary objects will no longer be allowed to be loaded via this mode unless they are explicitly allowlisted by the user via `torch.serialization.add_safe_globals`. We recommend you start setting `weights_only=True` for any use case where you don't have full control of the loaded file. Please open an issue on GitHub for any issues related to this experimental feature.\n",
      "  load_model = torch.load(f = './model_checkpoints/' + model.model_folder + '/best_model.pth')\n",
      "/home/stbastos/experiments/health_tests/multimodal_tsc_study_cases/input/time_series_module.py:18: UserWarning: To copy construct from a tensor, it is recommended to use sourceTensor.clone().detach() or sourceTensor.clone().detach().requires_grad_(True), rather than torch.tensor(sourceTensor).\n",
      "  return torch.tensor(self.data[idx], dtype=torch.float32).to(device=self.device), torch.tensor(self.labels[idx], dtype=torch.long).to(device=self.device)\n"
     ]
    },
    {
     "name": "stdout",
     "output_type": "stream",
     "text": [
      "9 {'f1_macro': 0.4885469582564053, 'f1_micro': 0.5734750979294908, 'valid_accuracy': 0.5734750979294908}\n"
     ]
    },
    {
     "name": "stderr",
     "output_type": "stream",
     "text": [
      "/tmp/ipykernel_3424418/1431452037.py:61: FutureWarning: You are using `torch.load` with `weights_only=False` (the current default value), which uses the default pickle module implicitly. It is possible to construct malicious pickle data which will execute arbitrary code during unpickling (See https://github.com/pytorch/pytorch/blob/main/SECURITY.md#untrusted-models for more details). In a future release, the default value for `weights_only` will be flipped to `True`. This limits the functions that could be executed during unpickling. Arbitrary objects will no longer be allowed to be loaded via this mode unless they are explicitly allowlisted by the user via `torch.serialization.add_safe_globals`. We recommend you start setting `weights_only=True` for any use case where you don't have full control of the loaded file. Please open an issue on GitHub for any issues related to this experimental feature.\n",
      "  load_model = torch.load(f = './model_checkpoints/' + model.model_folder + '/best_model.pth')\n",
      "/home/stbastos/experiments/health_tests/multimodal_tsc_study_cases/input/time_series_module.py:18: UserWarning: To copy construct from a tensor, it is recommended to use sourceTensor.clone().detach() or sourceTensor.clone().detach().requires_grad_(True), rather than torch.tensor(sourceTensor).\n",
      "  return torch.tensor(self.data[idx], dtype=torch.float32).to(device=self.device), torch.tensor(self.labels[idx], dtype=torch.long).to(device=self.device)\n",
      "100%|██████████| 10/10 [00:34<00:00,  3.48s/it]\n",
      "100%|██████████| 1/1 [00:34<00:00, 34.84s/it]\n"
     ]
    },
    {
     "name": "stdout",
     "output_type": "stream",
     "text": [
      "10 {'f1_macro': 0.5168791915493607, 'f1_micro': 0.614608734205276, 'valid_accuracy': 0.614608734205276}\n"
     ]
    },
    {
     "name": "stderr",
     "output_type": "stream",
     "text": [
      "  0%|          | 0/1 [00:00<?, ?it/s]/tmp/ipykernel_3424418/1431452037.py:61: FutureWarning: You are using `torch.load` with `weights_only=False` (the current default value), which uses the default pickle module implicitly. It is possible to construct malicious pickle data which will execute arbitrary code during unpickling (See https://github.com/pytorch/pytorch/blob/main/SECURITY.md#untrusted-models for more details). In a future release, the default value for `weights_only` will be flipped to `True`. This limits the functions that could be executed during unpickling. Arbitrary objects will no longer be allowed to be loaded via this mode unless they are explicitly allowlisted by the user via `torch.serialization.add_safe_globals`. We recommend you start setting `weights_only=True` for any use case where you don't have full control of the loaded file. Please open an issue on GitHub for any issues related to this experimental feature.\n",
      "  load_model = torch.load(f = './model_checkpoints/' + model.model_folder + '/best_model.pth')\n",
      "/home/stbastos/experiments/health_tests/multimodal_tsc_study_cases/input/time_series_module.py:18: UserWarning: To copy construct from a tensor, it is recommended to use sourceTensor.clone().detach() or sourceTensor.clone().detach().requires_grad_(True), rather than torch.tensor(sourceTensor).\n",
      "  return torch.tensor(self.data[idx], dtype=torch.float32).to(device=self.device), torch.tensor(self.labels[idx], dtype=torch.long).to(device=self.device)\n"
     ]
    },
    {
     "name": "stdout",
     "output_type": "stream",
     "text": [
      "1 {'f1_macro': 0.8230223123322622, 'f1_micro': 0.8646491519787163, 'valid_accuracy': 0.8646491519787163}\n"
     ]
    },
    {
     "name": "stderr",
     "output_type": "stream",
     "text": [
      "/tmp/ipykernel_3424418/1431452037.py:61: FutureWarning: You are using `torch.load` with `weights_only=False` (the current default value), which uses the default pickle module implicitly. It is possible to construct malicious pickle data which will execute arbitrary code during unpickling (See https://github.com/pytorch/pytorch/blob/main/SECURITY.md#untrusted-models for more details). In a future release, the default value for `weights_only` will be flipped to `True`. This limits the functions that could be executed during unpickling. Arbitrary objects will no longer be allowed to be loaded via this mode unless they are explicitly allowlisted by the user via `torch.serialization.add_safe_globals`. We recommend you start setting `weights_only=True` for any use case where you don't have full control of the loaded file. Please open an issue on GitHub for any issues related to this experimental feature.\n",
      "  load_model = torch.load(f = './model_checkpoints/' + model.model_folder + '/best_model.pth')\n",
      "/home/stbastos/experiments/health_tests/multimodal_tsc_study_cases/input/time_series_module.py:18: UserWarning: To copy construct from a tensor, it is recommended to use sourceTensor.clone().detach() or sourceTensor.clone().detach().requires_grad_(True), rather than torch.tensor(sourceTensor).\n",
      "  return torch.tensor(self.data[idx], dtype=torch.float32).to(device=self.device), torch.tensor(self.labels[idx], dtype=torch.long).to(device=self.device)\n"
     ]
    },
    {
     "name": "stdout",
     "output_type": "stream",
     "text": [
      "2 {'f1_macro': 0.563036565090653, 'f1_micro': 0.6266046923417441, 'valid_accuracy': 0.6266046923417441}\n"
     ]
    },
    {
     "name": "stderr",
     "output_type": "stream",
     "text": [
      "/tmp/ipykernel_3424418/1431452037.py:61: FutureWarning: You are using `torch.load` with `weights_only=False` (the current default value), which uses the default pickle module implicitly. It is possible to construct malicious pickle data which will execute arbitrary code during unpickling (See https://github.com/pytorch/pytorch/blob/main/SECURITY.md#untrusted-models for more details). In a future release, the default value for `weights_only` will be flipped to `True`. This limits the functions that could be executed during unpickling. Arbitrary objects will no longer be allowed to be loaded via this mode unless they are explicitly allowlisted by the user via `torch.serialization.add_safe_globals`. We recommend you start setting `weights_only=True` for any use case where you don't have full control of the loaded file. Please open an issue on GitHub for any issues related to this experimental feature.\n",
      "  load_model = torch.load(f = './model_checkpoints/' + model.model_folder + '/best_model.pth')\n",
      "/home/stbastos/experiments/health_tests/multimodal_tsc_study_cases/input/time_series_module.py:18: UserWarning: To copy construct from a tensor, it is recommended to use sourceTensor.clone().detach() or sourceTensor.clone().detach().requires_grad_(True), rather than torch.tensor(sourceTensor).\n",
      "  return torch.tensor(self.data[idx], dtype=torch.float32).to(device=self.device), torch.tensor(self.labels[idx], dtype=torch.long).to(device=self.device)\n"
     ]
    },
    {
     "name": "stdout",
     "output_type": "stream",
     "text": [
      "3 {'f1_macro': 0.680226164140454, 'f1_micro': 0.7948971736500605, 'valid_accuracy': 0.7948971736500605}\n"
     ]
    },
    {
     "name": "stderr",
     "output_type": "stream",
     "text": [
      "/tmp/ipykernel_3424418/1431452037.py:61: FutureWarning: You are using `torch.load` with `weights_only=False` (the current default value), which uses the default pickle module implicitly. It is possible to construct malicious pickle data which will execute arbitrary code during unpickling (See https://github.com/pytorch/pytorch/blob/main/SECURITY.md#untrusted-models for more details). In a future release, the default value for `weights_only` will be flipped to `True`. This limits the functions that could be executed during unpickling. Arbitrary objects will no longer be allowed to be loaded via this mode unless they are explicitly allowlisted by the user via `torch.serialization.add_safe_globals`. We recommend you start setting `weights_only=True` for any use case where you don't have full control of the loaded file. Please open an issue on GitHub for any issues related to this experimental feature.\n",
      "  load_model = torch.load(f = './model_checkpoints/' + model.model_folder + '/best_model.pth')\n",
      "/home/stbastos/experiments/health_tests/multimodal_tsc_study_cases/input/time_series_module.py:18: UserWarning: To copy construct from a tensor, it is recommended to use sourceTensor.clone().detach() or sourceTensor.clone().detach().requires_grad_(True), rather than torch.tensor(sourceTensor).\n",
      "  return torch.tensor(self.data[idx], dtype=torch.float32).to(device=self.device), torch.tensor(self.labels[idx], dtype=torch.long).to(device=self.device)\n"
     ]
    },
    {
     "name": "stdout",
     "output_type": "stream",
     "text": [
      "4 {'f1_macro': 0.5638993600150043, 'f1_micro': 0.617250082300011, 'valid_accuracy': 0.617250082300011}\n"
     ]
    },
    {
     "name": "stderr",
     "output_type": "stream",
     "text": [
      "/tmp/ipykernel_3424418/1431452037.py:61: FutureWarning: You are using `torch.load` with `weights_only=False` (the current default value), which uses the default pickle module implicitly. It is possible to construct malicious pickle data which will execute arbitrary code during unpickling (See https://github.com/pytorch/pytorch/blob/main/SECURITY.md#untrusted-models for more details). In a future release, the default value for `weights_only` will be flipped to `True`. This limits the functions that could be executed during unpickling. Arbitrary objects will no longer be allowed to be loaded via this mode unless they are explicitly allowlisted by the user via `torch.serialization.add_safe_globals`. We recommend you start setting `weights_only=True` for any use case where you don't have full control of the loaded file. Please open an issue on GitHub for any issues related to this experimental feature.\n",
      "  load_model = torch.load(f = './model_checkpoints/' + model.model_folder + '/best_model.pth')\n",
      "/home/stbastos/experiments/health_tests/multimodal_tsc_study_cases/input/time_series_module.py:18: UserWarning: To copy construct from a tensor, it is recommended to use sourceTensor.clone().detach() or sourceTensor.clone().detach().requires_grad_(True), rather than torch.tensor(sourceTensor).\n",
      "  return torch.tensor(self.data[idx], dtype=torch.float32).to(device=self.device), torch.tensor(self.labels[idx], dtype=torch.long).to(device=self.device)\n"
     ]
    },
    {
     "name": "stdout",
     "output_type": "stream",
     "text": [
      "5 {'f1_macro': 0.5960898788816837, 'f1_micro': 0.6812979219913323, 'valid_accuracy': 0.6812979219913323}\n"
     ]
    },
    {
     "name": "stderr",
     "output_type": "stream",
     "text": [
      "/tmp/ipykernel_3424418/1431452037.py:61: FutureWarning: You are using `torch.load` with `weights_only=False` (the current default value), which uses the default pickle module implicitly. It is possible to construct malicious pickle data which will execute arbitrary code during unpickling (See https://github.com/pytorch/pytorch/blob/main/SECURITY.md#untrusted-models for more details). In a future release, the default value for `weights_only` will be flipped to `True`. This limits the functions that could be executed during unpickling. Arbitrary objects will no longer be allowed to be loaded via this mode unless they are explicitly allowlisted by the user via `torch.serialization.add_safe_globals`. We recommend you start setting `weights_only=True` for any use case where you don't have full control of the loaded file. Please open an issue on GitHub for any issues related to this experimental feature.\n",
      "  load_model = torch.load(f = './model_checkpoints/' + model.model_folder + '/best_model.pth')\n",
      "/home/stbastos/experiments/health_tests/multimodal_tsc_study_cases/input/time_series_module.py:18: UserWarning: To copy construct from a tensor, it is recommended to use sourceTensor.clone().detach() or sourceTensor.clone().detach().requires_grad_(True), rather than torch.tensor(sourceTensor).\n",
      "  return torch.tensor(self.data[idx], dtype=torch.float32).to(device=self.device), torch.tensor(self.labels[idx], dtype=torch.long).to(device=self.device)\n"
     ]
    },
    {
     "name": "stdout",
     "output_type": "stream",
     "text": [
      "6 {'f1_macro': 0.738697198527835, 'f1_micro': 0.838077306456972, 'valid_accuracy': 0.838077306456972}\n"
     ]
    },
    {
     "name": "stderr",
     "output_type": "stream",
     "text": [
      "/tmp/ipykernel_3424418/1431452037.py:61: FutureWarning: You are using `torch.load` with `weights_only=False` (the current default value), which uses the default pickle module implicitly. It is possible to construct malicious pickle data which will execute arbitrary code during unpickling (See https://github.com/pytorch/pytorch/blob/main/SECURITY.md#untrusted-models for more details). In a future release, the default value for `weights_only` will be flipped to `True`. This limits the functions that could be executed during unpickling. Arbitrary objects will no longer be allowed to be loaded via this mode unless they are explicitly allowlisted by the user via `torch.serialization.add_safe_globals`. We recommend you start setting `weights_only=True` for any use case where you don't have full control of the loaded file. Please open an issue on GitHub for any issues related to this experimental feature.\n",
      "  load_model = torch.load(f = './model_checkpoints/' + model.model_folder + '/best_model.pth')\n",
      "/home/stbastos/experiments/health_tests/multimodal_tsc_study_cases/input/time_series_module.py:18: UserWarning: To copy construct from a tensor, it is recommended to use sourceTensor.clone().detach() or sourceTensor.clone().detach().requires_grad_(True), rather than torch.tensor(sourceTensor).\n",
      "  return torch.tensor(self.data[idx], dtype=torch.float32).to(device=self.device), torch.tensor(self.labels[idx], dtype=torch.long).to(device=self.device)\n"
     ]
    },
    {
     "name": "stdout",
     "output_type": "stream",
     "text": [
      "7 {'f1_macro': 0.6168346621337923, 'f1_micro': 0.7174897801347917, 'valid_accuracy': 0.7174897801347917}\n"
     ]
    },
    {
     "name": "stderr",
     "output_type": "stream",
     "text": [
      "/tmp/ipykernel_3424418/1431452037.py:61: FutureWarning: You are using `torch.load` with `weights_only=False` (the current default value), which uses the default pickle module implicitly. It is possible to construct malicious pickle data which will execute arbitrary code during unpickling (See https://github.com/pytorch/pytorch/blob/main/SECURITY.md#untrusted-models for more details). In a future release, the default value for `weights_only` will be flipped to `True`. This limits the functions that could be executed during unpickling. Arbitrary objects will no longer be allowed to be loaded via this mode unless they are explicitly allowlisted by the user via `torch.serialization.add_safe_globals`. We recommend you start setting `weights_only=True` for any use case where you don't have full control of the loaded file. Please open an issue on GitHub for any issues related to this experimental feature.\n",
      "  load_model = torch.load(f = './model_checkpoints/' + model.model_folder + '/best_model.pth')\n",
      "/home/stbastos/experiments/health_tests/multimodal_tsc_study_cases/input/time_series_module.py:18: UserWarning: To copy construct from a tensor, it is recommended to use sourceTensor.clone().detach() or sourceTensor.clone().detach().requires_grad_(True), rather than torch.tensor(sourceTensor).\n",
      "  return torch.tensor(self.data[idx], dtype=torch.float32).to(device=self.device), torch.tensor(self.labels[idx], dtype=torch.long).to(device=self.device)\n"
     ]
    },
    {
     "name": "stdout",
     "output_type": "stream",
     "text": [
      "8 {'f1_macro': 0.574303939101507, 'f1_micro': 0.6023521579940087, 'valid_accuracy': 0.6023521579940087}\n"
     ]
    },
    {
     "name": "stderr",
     "output_type": "stream",
     "text": [
      "/tmp/ipykernel_3424418/1431452037.py:61: FutureWarning: You are using `torch.load` with `weights_only=False` (the current default value), which uses the default pickle module implicitly. It is possible to construct malicious pickle data which will execute arbitrary code during unpickling (See https://github.com/pytorch/pytorch/blob/main/SECURITY.md#untrusted-models for more details). In a future release, the default value for `weights_only` will be flipped to `True`. This limits the functions that could be executed during unpickling. Arbitrary objects will no longer be allowed to be loaded via this mode unless they are explicitly allowlisted by the user via `torch.serialization.add_safe_globals`. We recommend you start setting `weights_only=True` for any use case where you don't have full control of the loaded file. Please open an issue on GitHub for any issues related to this experimental feature.\n",
      "  load_model = torch.load(f = './model_checkpoints/' + model.model_folder + '/best_model.pth')\n",
      "/home/stbastos/experiments/health_tests/multimodal_tsc_study_cases/input/time_series_module.py:18: UserWarning: To copy construct from a tensor, it is recommended to use sourceTensor.clone().detach() or sourceTensor.clone().detach().requires_grad_(True), rather than torch.tensor(sourceTensor).\n",
      "  return torch.tensor(self.data[idx], dtype=torch.float32).to(device=self.device), torch.tensor(self.labels[idx], dtype=torch.long).to(device=self.device)\n"
     ]
    },
    {
     "name": "stdout",
     "output_type": "stream",
     "text": [
      "9 {'f1_macro': 0.6886032601079233, 'f1_micro': 0.7509792949076665, 'valid_accuracy': 0.7509792949076665}\n"
     ]
    },
    {
     "name": "stderr",
     "output_type": "stream",
     "text": [
      "/tmp/ipykernel_3424418/1431452037.py:61: FutureWarning: You are using `torch.load` with `weights_only=False` (the current default value), which uses the default pickle module implicitly. It is possible to construct malicious pickle data which will execute arbitrary code during unpickling (See https://github.com/pytorch/pytorch/blob/main/SECURITY.md#untrusted-models for more details). In a future release, the default value for `weights_only` will be flipped to `True`. This limits the functions that could be executed during unpickling. Arbitrary objects will no longer be allowed to be loaded via this mode unless they are explicitly allowlisted by the user via `torch.serialization.add_safe_globals`. We recommend you start setting `weights_only=True` for any use case where you don't have full control of the loaded file. Please open an issue on GitHub for any issues related to this experimental feature.\n",
      "  load_model = torch.load(f = './model_checkpoints/' + model.model_folder + '/best_model.pth')\n",
      "/home/stbastos/experiments/health_tests/multimodal_tsc_study_cases/input/time_series_module.py:18: UserWarning: To copy construct from a tensor, it is recommended to use sourceTensor.clone().detach() or sourceTensor.clone().detach().requires_grad_(True), rather than torch.tensor(sourceTensor).\n",
      "  return torch.tensor(self.data[idx], dtype=torch.float32).to(device=self.device), torch.tensor(self.labels[idx], dtype=torch.long).to(device=self.device)\n",
      "100%|██████████| 10/10 [01:02<00:00,  6.26s/it]\n",
      "100%|██████████| 1/1 [01:02<00:00, 62.59s/it]\n"
     ]
    },
    {
     "name": "stdout",
     "output_type": "stream",
     "text": [
      "10 {'f1_macro': 0.5676576831618836, 'f1_micro': 0.6440922190201729, 'valid_accuracy': 0.6440922190201729}\n"
     ]
    },
    {
     "name": "stderr",
     "output_type": "stream",
     "text": [
      "  0%|          | 0/1 [00:00<?, ?it/s]/tmp/ipykernel_3424418/1431452037.py:61: FutureWarning: You are using `torch.load` with `weights_only=False` (the current default value), which uses the default pickle module implicitly. It is possible to construct malicious pickle data which will execute arbitrary code during unpickling (See https://github.com/pytorch/pytorch/blob/main/SECURITY.md#untrusted-models for more details). In a future release, the default value for `weights_only` will be flipped to `True`. This limits the functions that could be executed during unpickling. Arbitrary objects will no longer be allowed to be loaded via this mode unless they are explicitly allowlisted by the user via `torch.serialization.add_safe_globals`. We recommend you start setting `weights_only=True` for any use case where you don't have full control of the loaded file. Please open an issue on GitHub for any issues related to this experimental feature.\n",
      "  load_model = torch.load(f = './model_checkpoints/' + model.model_folder + '/best_model.pth')\n",
      "/home/stbastos/experiments/health_tests/multimodal_tsc_study_cases/input/time_series_module.py:18: UserWarning: To copy construct from a tensor, it is recommended to use sourceTensor.clone().detach() or sourceTensor.clone().detach().requires_grad_(True), rather than torch.tensor(sourceTensor).\n",
      "  return torch.tensor(self.data[idx], dtype=torch.float32).to(device=self.device), torch.tensor(self.labels[idx], dtype=torch.long).to(device=self.device)\n"
     ]
    },
    {
     "name": "stdout",
     "output_type": "stream",
     "text": [
      "1 {'f1_macro': 0.999170206198816, 'f1_micro': 0.9993348852677086, 'valid_accuracy': 0.9993348852677086}\n"
     ]
    },
    {
     "name": "stderr",
     "output_type": "stream",
     "text": [
      "/tmp/ipykernel_3424418/1431452037.py:61: FutureWarning: You are using `torch.load` with `weights_only=False` (the current default value), which uses the default pickle module implicitly. It is possible to construct malicious pickle data which will execute arbitrary code during unpickling (See https://github.com/pytorch/pytorch/blob/main/SECURITY.md#untrusted-models for more details). In a future release, the default value for `weights_only` will be flipped to `True`. This limits the functions that could be executed during unpickling. Arbitrary objects will no longer be allowed to be loaded via this mode unless they are explicitly allowlisted by the user via `torch.serialization.add_safe_globals`. We recommend you start setting `weights_only=True` for any use case where you don't have full control of the loaded file. Please open an issue on GitHub for any issues related to this experimental feature.\n",
      "  load_model = torch.load(f = './model_checkpoints/' + model.model_folder + '/best_model.pth')\n",
      "/home/stbastos/experiments/health_tests/multimodal_tsc_study_cases/input/time_series_module.py:18: UserWarning: To copy construct from a tensor, it is recommended to use sourceTensor.clone().detach() or sourceTensor.clone().detach().requires_grad_(True), rather than torch.tensor(sourceTensor).\n",
      "  return torch.tensor(self.data[idx], dtype=torch.float32).to(device=self.device), torch.tensor(self.labels[idx], dtype=torch.long).to(device=self.device)\n"
     ]
    },
    {
     "name": "stdout",
     "output_type": "stream",
     "text": [
      "2 {'f1_macro': 0.5483481450601417, 'f1_micro': 0.6458610004426738, 'valid_accuracy': 0.6458610004426738}\n"
     ]
    },
    {
     "name": "stderr",
     "output_type": "stream",
     "text": [
      "/tmp/ipykernel_3424418/1431452037.py:61: FutureWarning: You are using `torch.load` with `weights_only=False` (the current default value), which uses the default pickle module implicitly. It is possible to construct malicious pickle data which will execute arbitrary code during unpickling (See https://github.com/pytorch/pytorch/blob/main/SECURITY.md#untrusted-models for more details). In a future release, the default value for `weights_only` will be flipped to `True`. This limits the functions that could be executed during unpickling. Arbitrary objects will no longer be allowed to be loaded via this mode unless they are explicitly allowlisted by the user via `torch.serialization.add_safe_globals`. We recommend you start setting `weights_only=True` for any use case where you don't have full control of the loaded file. Please open an issue on GitHub for any issues related to this experimental feature.\n",
      "  load_model = torch.load(f = './model_checkpoints/' + model.model_folder + '/best_model.pth')\n",
      "/home/stbastos/experiments/health_tests/multimodal_tsc_study_cases/input/time_series_module.py:18: UserWarning: To copy construct from a tensor, it is recommended to use sourceTensor.clone().detach() or sourceTensor.clone().detach().requires_grad_(True), rather than torch.tensor(sourceTensor).\n",
      "  return torch.tensor(self.data[idx], dtype=torch.float32).to(device=self.device), torch.tensor(self.labels[idx], dtype=torch.long).to(device=self.device)\n"
     ]
    },
    {
     "name": "stdout",
     "output_type": "stream",
     "text": [
      "3 {'f1_macro': 0.6794299762566915, 'f1_micro': 0.7621247113163973, 'valid_accuracy': 0.7621247113163973}\n"
     ]
    },
    {
     "name": "stderr",
     "output_type": "stream",
     "text": [
      "/tmp/ipykernel_3424418/1431452037.py:61: FutureWarning: You are using `torch.load` with `weights_only=False` (the current default value), which uses the default pickle module implicitly. It is possible to construct malicious pickle data which will execute arbitrary code during unpickling (See https://github.com/pytorch/pytorch/blob/main/SECURITY.md#untrusted-models for more details). In a future release, the default value for `weights_only` will be flipped to `True`. This limits the functions that could be executed during unpickling. Arbitrary objects will no longer be allowed to be loaded via this mode unless they are explicitly allowlisted by the user via `torch.serialization.add_safe_globals`. We recommend you start setting `weights_only=True` for any use case where you don't have full control of the loaded file. Please open an issue on GitHub for any issues related to this experimental feature.\n",
      "  load_model = torch.load(f = './model_checkpoints/' + model.model_folder + '/best_model.pth')\n",
      "/home/stbastos/experiments/health_tests/multimodal_tsc_study_cases/input/time_series_module.py:18: UserWarning: To copy construct from a tensor, it is recommended to use sourceTensor.clone().detach() or sourceTensor.clone().detach().requires_grad_(True), rather than torch.tensor(sourceTensor).\n",
      "  return torch.tensor(self.data[idx], dtype=torch.float32).to(device=self.device), torch.tensor(self.labels[idx], dtype=torch.long).to(device=self.device)\n"
     ]
    },
    {
     "name": "stdout",
     "output_type": "stream",
     "text": [
      "4 {'f1_macro': 0.55601750766023, 'f1_micro': 0.6348074179743224, 'valid_accuracy': 0.6348074179743224}\n"
     ]
    },
    {
     "name": "stderr",
     "output_type": "stream",
     "text": [
      "/tmp/ipykernel_3424418/1431452037.py:61: FutureWarning: You are using `torch.load` with `weights_only=False` (the current default value), which uses the default pickle module implicitly. It is possible to construct malicious pickle data which will execute arbitrary code during unpickling (See https://github.com/pytorch/pytorch/blob/main/SECURITY.md#untrusted-models for more details). In a future release, the default value for `weights_only` will be flipped to `True`. This limits the functions that could be executed during unpickling. Arbitrary objects will no longer be allowed to be loaded via this mode unless they are explicitly allowlisted by the user via `torch.serialization.add_safe_globals`. We recommend you start setting `weights_only=True` for any use case where you don't have full control of the loaded file. Please open an issue on GitHub for any issues related to this experimental feature.\n",
      "  load_model = torch.load(f = './model_checkpoints/' + model.model_folder + '/best_model.pth')\n",
      "/home/stbastos/experiments/health_tests/multimodal_tsc_study_cases/input/time_series_module.py:18: UserWarning: To copy construct from a tensor, it is recommended to use sourceTensor.clone().detach() or sourceTensor.clone().detach().requires_grad_(True), rather than torch.tensor(sourceTensor).\n",
      "  return torch.tensor(self.data[idx], dtype=torch.float32).to(device=self.device), torch.tensor(self.labels[idx], dtype=torch.long).to(device=self.device)\n"
     ]
    },
    {
     "name": "stdout",
     "output_type": "stream",
     "text": [
      "5 {'f1_macro': 0.5600453359918707, 'f1_micro': 0.6440715635070563, 'valid_accuracy': 0.6440715635070563}\n"
     ]
    },
    {
     "name": "stderr",
     "output_type": "stream",
     "text": [
      "/tmp/ipykernel_3424418/1431452037.py:61: FutureWarning: You are using `torch.load` with `weights_only=False` (the current default value), which uses the default pickle module implicitly. It is possible to construct malicious pickle data which will execute arbitrary code during unpickling (See https://github.com/pytorch/pytorch/blob/main/SECURITY.md#untrusted-models for more details). In a future release, the default value for `weights_only` will be flipped to `True`. This limits the functions that could be executed during unpickling. Arbitrary objects will no longer be allowed to be loaded via this mode unless they are explicitly allowlisted by the user via `torch.serialization.add_safe_globals`. We recommend you start setting `weights_only=True` for any use case where you don't have full control of the loaded file. Please open an issue on GitHub for any issues related to this experimental feature.\n",
      "  load_model = torch.load(f = './model_checkpoints/' + model.model_folder + '/best_model.pth')\n",
      "/home/stbastos/experiments/health_tests/multimodal_tsc_study_cases/input/time_series_module.py:18: UserWarning: To copy construct from a tensor, it is recommended to use sourceTensor.clone().detach() or sourceTensor.clone().detach().requires_grad_(True), rather than torch.tensor(sourceTensor).\n",
      "  return torch.tensor(self.data[idx], dtype=torch.float32).to(device=self.device), torch.tensor(self.labels[idx], dtype=torch.long).to(device=self.device)\n"
     ]
    },
    {
     "name": "stdout",
     "output_type": "stream",
     "text": [
      "6 {'f1_macro': 0.7644605577320005, 'f1_micro': 0.8327611031121941, 'valid_accuracy': 0.8327611031121941}\n"
     ]
    },
    {
     "name": "stderr",
     "output_type": "stream",
     "text": [
      "/tmp/ipykernel_3424418/1431452037.py:61: FutureWarning: You are using `torch.load` with `weights_only=False` (the current default value), which uses the default pickle module implicitly. It is possible to construct malicious pickle data which will execute arbitrary code during unpickling (See https://github.com/pytorch/pytorch/blob/main/SECURITY.md#untrusted-models for more details). In a future release, the default value for `weights_only` will be flipped to `True`. This limits the functions that could be executed during unpickling. Arbitrary objects will no longer be allowed to be loaded via this mode unless they are explicitly allowlisted by the user via `torch.serialization.add_safe_globals`. We recommend you start setting `weights_only=True` for any use case where you don't have full control of the loaded file. Please open an issue on GitHub for any issues related to this experimental feature.\n",
      "  load_model = torch.load(f = './model_checkpoints/' + model.model_folder + '/best_model.pth')\n",
      "/home/stbastos/experiments/health_tests/multimodal_tsc_study_cases/input/time_series_module.py:18: UserWarning: To copy construct from a tensor, it is recommended to use sourceTensor.clone().detach() or sourceTensor.clone().detach().requires_grad_(True), rather than torch.tensor(sourceTensor).\n",
      "  return torch.tensor(self.data[idx], dtype=torch.float32).to(device=self.device), torch.tensor(self.labels[idx], dtype=torch.long).to(device=self.device)\n"
     ]
    },
    {
     "name": "stdout",
     "output_type": "stream",
     "text": [
      "7 {'f1_macro': 0.6794984759609375, 'f1_micro': 0.7286487680919236, 'valid_accuracy': 0.7286487680919236}\n"
     ]
    },
    {
     "name": "stderr",
     "output_type": "stream",
     "text": [
      "/tmp/ipykernel_3424418/1431452037.py:61: FutureWarning: You are using `torch.load` with `weights_only=False` (the current default value), which uses the default pickle module implicitly. It is possible to construct malicious pickle data which will execute arbitrary code during unpickling (See https://github.com/pytorch/pytorch/blob/main/SECURITY.md#untrusted-models for more details). In a future release, the default value for `weights_only` will be flipped to `True`. This limits the functions that could be executed during unpickling. Arbitrary objects will no longer be allowed to be loaded via this mode unless they are explicitly allowlisted by the user via `torch.serialization.add_safe_globals`. We recommend you start setting `weights_only=True` for any use case where you don't have full control of the loaded file. Please open an issue on GitHub for any issues related to this experimental feature.\n",
      "  load_model = torch.load(f = './model_checkpoints/' + model.model_folder + '/best_model.pth')\n",
      "/home/stbastos/experiments/health_tests/multimodal_tsc_study_cases/input/time_series_module.py:18: UserWarning: To copy construct from a tensor, it is recommended to use sourceTensor.clone().detach() or sourceTensor.clone().detach().requires_grad_(True), rather than torch.tensor(sourceTensor).\n",
      "  return torch.tensor(self.data[idx], dtype=torch.float32).to(device=self.device), torch.tensor(self.labels[idx], dtype=torch.long).to(device=self.device)\n"
     ]
    },
    {
     "name": "stdout",
     "output_type": "stream",
     "text": [
      "8 {'f1_macro': 0.5847152302001012, 'f1_micro': 0.6239875735049373, 'valid_accuracy': 0.6239875735049373}\n"
     ]
    },
    {
     "name": "stderr",
     "output_type": "stream",
     "text": [
      "/tmp/ipykernel_3424418/1431452037.py:61: FutureWarning: You are using `torch.load` with `weights_only=False` (the current default value), which uses the default pickle module implicitly. It is possible to construct malicious pickle data which will execute arbitrary code during unpickling (See https://github.com/pytorch/pytorch/blob/main/SECURITY.md#untrusted-models for more details). In a future release, the default value for `weights_only` will be flipped to `True`. This limits the functions that could be executed during unpickling. Arbitrary objects will no longer be allowed to be loaded via this mode unless they are explicitly allowlisted by the user via `torch.serialization.add_safe_globals`. We recommend you start setting `weights_only=True` for any use case where you don't have full control of the loaded file. Please open an issue on GitHub for any issues related to this experimental feature.\n",
      "  load_model = torch.load(f = './model_checkpoints/' + model.model_folder + '/best_model.pth')\n",
      "/home/stbastos/experiments/health_tests/multimodal_tsc_study_cases/input/time_series_module.py:18: UserWarning: To copy construct from a tensor, it is recommended to use sourceTensor.clone().detach() or sourceTensor.clone().detach().requires_grad_(True), rather than torch.tensor(sourceTensor).\n",
      "  return torch.tensor(self.data[idx], dtype=torch.float32).to(device=self.device), torch.tensor(self.labels[idx], dtype=torch.long).to(device=self.device)\n"
     ]
    },
    {
     "name": "stdout",
     "output_type": "stream",
     "text": [
      "9 {'f1_macro': 0.6393019458905429, 'f1_micro': 0.7169557918298824, 'valid_accuracy': 0.7169557918298824}\n"
     ]
    },
    {
     "name": "stderr",
     "output_type": "stream",
     "text": [
      "/tmp/ipykernel_3424418/1431452037.py:61: FutureWarning: You are using `torch.load` with `weights_only=False` (the current default value), which uses the default pickle module implicitly. It is possible to construct malicious pickle data which will execute arbitrary code during unpickling (See https://github.com/pytorch/pytorch/blob/main/SECURITY.md#untrusted-models for more details). In a future release, the default value for `weights_only` will be flipped to `True`. This limits the functions that could be executed during unpickling. Arbitrary objects will no longer be allowed to be loaded via this mode unless they are explicitly allowlisted by the user via `torch.serialization.add_safe_globals`. We recommend you start setting `weights_only=True` for any use case where you don't have full control of the loaded file. Please open an issue on GitHub for any issues related to this experimental feature.\n",
      "  load_model = torch.load(f = './model_checkpoints/' + model.model_folder + '/best_model.pth')\n",
      "/home/stbastos/experiments/health_tests/multimodal_tsc_study_cases/input/time_series_module.py:18: UserWarning: To copy construct from a tensor, it is recommended to use sourceTensor.clone().detach() or sourceTensor.clone().detach().requires_grad_(True), rather than torch.tensor(sourceTensor).\n",
      "  return torch.tensor(self.data[idx], dtype=torch.float32).to(device=self.device), torch.tensor(self.labels[idx], dtype=torch.long).to(device=self.device)\n",
      "100%|██████████| 10/10 [01:04<00:00,  6.42s/it]\n",
      "100%|██████████| 1/1 [01:04<00:00, 64.19s/it]"
     ]
    },
    {
     "name": "stdout",
     "output_type": "stream",
     "text": [
      "10 {'f1_macro': 0.565424172465497, 'f1_micro': 0.6852139215251607, 'valid_accuracy': 0.6852139215251607}\n"
     ]
    },
    {
     "name": "stderr",
     "output_type": "stream",
     "text": [
      "\n"
     ]
    }
   ],
   "source": [
    "models_metrics = []\n",
    "for used_model in [FullyConvolutionalNetwork1DGAP, FullyConvolutionalNetwork1DIntermediateGAP, FullyConvolutionalNetwork1DLateGAP]:\n",
    "    models_metrics.append(get_metrics_from_model(used_model = used_model, seeds = list(range(1, 11))))\n"
   ]
  },
  {
   "cell_type": "code",
   "execution_count": 17,
   "metadata": {},
   "outputs": [],
   "source": [
    "df_complete = pd.DataFrame()\n",
    "\n",
    "for df in models_metrics:\n",
    "    df_complete = pd.concat([df_complete, df], axis = 0)\n",
    "\n",
    "df_complete.reset_index(names = 'seed', inplace=True)"
   ]
  },
  {
   "cell_type": "code",
   "execution_count": 43,
   "metadata": {},
   "outputs": [
    {
     "data": {
      "image/png": "[encoded data removed]",
      "text/plain": [
       "<Figure size 1500x500 with 1 Axes>"
      ]
     },
     "metadata": {},
     "output_type": "display_data"
    },
    {
     "data": {
      "image/png": "[encoded data removed]",
      "text/plain": [
       "<Figure size 1500x500 with 1 Axes>"
      ]
     },
     "metadata": {},
     "output_type": "display_data"
    }
   ],
   "source": [
    "import seaborn as sns \n",
    "import matplotlib.pyplot as plt\n",
    "\n",
    "plt.figure(figsize = (15,5 ))\n",
    "\n",
    "ax = sns.barplot(\n",
    "    data = df_complete.query(\"seed != 1\"),\n",
    "    x= 'seed',\n",
    "    y = df_complete.f1_macro.apply(lambda x: round(x*100, 1)),\n",
    "    hue = 'model_name'\n",
    ")\n",
    "plt.title('F1-Macro')\n",
    "\n",
    "plt.ylim([0,120])\n",
    "\n",
    "for i in ax.containers:\n",
    "    ax.bar_label(i,)\n",
    "\n",
    "plt.show()\n",
    "\n",
    "\n",
    "plt.figure(figsize = (15,5 ))\n",
    "\n",
    "ax = sns.barplot(\n",
    "    data = df_complete.query(\"seed != 1\"),\n",
    "    x= 'seed',\n",
    "    y = df_complete.f1_micro.apply(lambda x: round(x*100, 1)),\n",
    "    hue = 'model_name'\n",
    ")\n",
    "plt.title('F1-Micro')\n",
    "\n",
    "plt.ylim([0,120])\n",
    "\n",
    "for i in ax.containers:\n",
    "    ax.bar_label(i,)\n",
    "\n",
    "plt.show()\n"
   ]
  },
  {
   "cell_type": "code",
   "execution_count": 40,
   "metadata": {},
   "outputs": [
    {
     "name": "stderr",
     "output_type": "stream",
     "text": [
      "100%|██████████| 1/1 [00:02<00:00,  2.15s/it]\n",
      "100%|██████████| 1/1 [00:02<00:00,  2.15s/it]\n"
     ]
    }
   ],
   "source": [
    "seeds = list(range(1, 2))\n",
    "used_model = FullyConvolutionalNetwork1DGAP\n",
    "custom_groups = True\n",
    "batch_size = 32\n",
    "datasets = ['wesad']\n",
    "device = 'cuda'\n",
    "metrics = []\n",
    "for dataset in tqdm(datasets):\n",
    "    for random_state in tqdm(seeds):\n",
    "        used_dataset = read_dataset_from_file(dataset_name = dataset)\n",
    "        X, y, metadata = used_dataset['X'], used_dataset['y'], used_dataset['metadata']\n",
    "\n",
    "        get_dummies_object = GetDummiesLabels(\n",
    "            X_raw= X,\n",
    "            y_raw= y,\n",
    "            metadata= metadata\n",
    "        )\n",
    "\n",
    "        X, y = get_dummies_object.transform()\n",
    "\n",
    "        train_test_object = TrainTestSplit(\n",
    "            X_raw= X,\n",
    "            y_raw= y,\n",
    "            metadata= metadata,\n",
    "            random_state = random_state\n",
    "            \n",
    "        )\n",
    "\n",
    "    \n",
    "        X_train, X_test, y_train, y_test = train_test_object.transform(custom_groups = custom_groups)\n",
    "        X_train, X_test, y_train, y_test = torch.from_numpy(X_train).to(device), torch.from_numpy(X_test).to(device), torch.from_numpy(y_train).to(device), torch.from_numpy(y_test).to(device)\n",
    "\n",
    "\n",
    "        train_dataset = TimeSeriesDataset(\n",
    "            data=X_train,\n",
    "            labels=y_train,\n",
    "            metadata=metadata\n",
    "        )\n",
    "\n",
    "        test_dataset = TimeSeriesDataset(\n",
    "            data=X_test,\n",
    "            labels=y_test,\n",
    "            metadata=metadata\n",
    "        )"
   ]
  }
 ],
 "metadata": {
  "kernelspec": {
   "display_name": "pytorch_enviroment",
   "language": "python",
   "name": "python3"
  },
  "language_info": {
   "codemirror_mode": {
    "name": "ipython",
    "version": 3
   },
   "file_extension": ".py",
   "mimetype": "text/x-python",
   "name": "python",
   "nbconvert_exporter": "python",
   "pygments_lexer": "ipython3",
   "version": "3.10.14"
  }
 },
 "nbformat": 4,
 "nbformat_minor": 2
}
