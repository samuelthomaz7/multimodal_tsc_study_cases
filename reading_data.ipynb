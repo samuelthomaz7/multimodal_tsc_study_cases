{
 "cells": [
  {
   "cell_type": "code",
   "execution_count": 1,
   "metadata": {},
   "outputs": [],
   "source": [
    "import numpy as np\n",
    "import torch\n",
    "import pickle"
   ]
  },
  {
   "cell_type": "code",
   "execution_count": 2,
   "metadata": {},
   "outputs": [],
   "source": [
    "train_path = '/home/stbastos/experiments/health_tests/multimodal_tsc_study_cases/downloaded_datasets/wesad-350hz-5second/train.pt'\n",
    "test_path = '/home/stbastos/experiments/health_tests/multimodal_tsc_study_cases/downloaded_datasets/wesad-350hz-5second/test.pt'\n"
   ]
  },
  {
   "cell_type": "code",
   "execution_count": 3,
   "metadata": {},
   "outputs": [
    {
     "name": "stderr",
     "output_type": "stream",
     "text": [
      "/tmp/ipykernel_2461791/552822968.py:1: FutureWarning: You are using `torch.load` with `weights_only=False` (the current default value), which uses the default pickle module implicitly. It is possible to construct malicious pickle data which will execute arbitrary code during unpickling (See https://github.com/pytorch/pytorch/blob/main/SECURITY.md#untrusted-models for more details). In a future release, the default value for `weights_only` will be flipped to `True`. This limits the functions that could be executed during unpickling. Arbitrary objects will no longer be allowed to be loaded via this mode unless they are explicitly allowlisted by the user via `torch.serialization.add_safe_globals`. We recommend you start setting `weights_only=True` for any use case where you don't have full control of the loaded file. Please open an issue on GitHub for any issues related to this experimental feature.\n",
      "  train_data = torch.load(train_path)\n"
     ]
    }
   ],
   "source": [
    "train_data = torch.load(train_path)"
   ]
  },
  {
   "cell_type": "code",
   "execution_count": 4,
   "metadata": {},
   "outputs": [
    {
     "name": "stderr",
     "output_type": "stream",
     "text": [
      "/tmp/ipykernel_2461791/1555040193.py:1: FutureWarning: You are using `torch.load` with `weights_only=False` (the current default value), which uses the default pickle module implicitly. It is possible to construct malicious pickle data which will execute arbitrary code during unpickling (See https://github.com/pytorch/pytorch/blob/main/SECURITY.md#untrusted-models for more details). In a future release, the default value for `weights_only` will be flipped to `True`. This limits the functions that could be executed during unpickling. Arbitrary objects will no longer be allowed to be loaded via this mode unless they are explicitly allowlisted by the user via `torch.serialization.add_safe_globals`. We recommend you start setting `weights_only=True` for any use case where you don't have full control of the loaded file. Please open an issue on GitHub for any issues related to this experimental feature.\n",
      "  test_data = torch.load(test_path)\n"
     ]
    }
   ],
   "source": [
    "test_data = torch.load(test_path)"
   ]
  },
  {
   "cell_type": "code",
   "execution_count": 5,
   "metadata": {},
   "outputs": [
    {
     "data": {
      "text/plain": [
       "dict_keys(['samples', 'labels', 'metadata'])"
      ]
     },
     "execution_count": 5,
     "metadata": {},
     "output_type": "execute_result"
    }
   ],
   "source": [
    "test_data.keys()"
   ]
  },
  {
   "cell_type": "code",
   "execution_count": 6,
   "metadata": {},
   "outputs": [],
   "source": [
    "wesad_raw = {\n",
    "    'X_train': train_data['samples'].numpy(),\n",
    "    'X_test': test_data['samples'].numpy(),\n",
    "    'y_train': train_data['labels'].numpy(),\n",
    "    'y_test': test_data['labels'].numpy(),\n",
    "    'train_metadata': train_data['metadata'].numpy(),\n",
    "    'test_metadata': test_data['metadata'].numpy()\n",
    "}"
   ]
  },
  {
   "cell_type": "code",
   "execution_count": 7,
   "metadata": {},
   "outputs": [],
   "source": [
    "wesad = {\n",
    "    'X': np.concatenate((wesad_raw['X_train'], wesad_raw['X_test']), axis = 0),\n",
    "    'y': np.concatenate((wesad_raw['y_train'], wesad_raw['y_test']), axis = 0),\n",
    "    'metadata': {\n",
    "        'problemname': 'wesad',\n",
    "        'folds': np.concatenate((wesad_raw['train_metadata'], wesad_raw['test_metadata']), axis = 0)\n",
    "    }\n",
    "}\n",
    "\n",
    "wesad['metadata']['class_values'] = np.unique(wesad['y'])\n"
   ]
  },
  {
   "cell_type": "code",
   "execution_count": 8,
   "metadata": {},
   "outputs": [],
   "source": [
    "with open('/home/stbastos/experiments/health_tests/multimodal_tsc_study_cases/downloaded_datasets/wesad.pkl','wb') as f:\n",
    "    pickle.dump(wesad, f)"
   ]
  }
 ],
 "metadata": {
  "kernelspec": {
   "display_name": "pytorch_enviroment",
   "language": "python",
   "name": "python3"
  },
  "language_info": {
   "codemirror_mode": {
    "name": "ipython",
    "version": 3
   },
   "file_extension": ".py",
   "mimetype": "text/x-python",
   "name": "python",
   "nbconvert_exporter": "python",
   "pygments_lexer": "ipython3",
   "version": "3.10.14"
  }
 },
 "nbformat": 4,
 "nbformat_minor": 2
}
